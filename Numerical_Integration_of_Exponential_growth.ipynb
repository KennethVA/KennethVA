{
  "nbformat": 4,
  "nbformat_minor": 0,
  "metadata": {
    "colab": {
      "provenance": [],
      "include_colab_link": true
    },
    "kernelspec": {
      "name": "python3",
      "display_name": "Python 3"
    },
    "language_info": {
      "name": "python"
    }
  },
  "cells": [
    {
      "cell_type": "markdown",
      "metadata": {
        "id": "view-in-github",
        "colab_type": "text"
      },
      "source": [
        "<a href=\"https://colab.research.google.com/github/KennethVA/KennethVA/blob/main/Numerical_Integration_of_Exponential_growth.ipynb\" target=\"_parent\"><img src=\"https://colab.research.google.com/assets/colab-badge.svg\" alt=\"Open In Colab\"/></a>"
      ]
    },
    {
      "cell_type": "markdown",
      "source": [
        "# Numerical Integration of Exponential growth"
      ],
      "metadata": {
        "id": "QKn5pLPSq2F0"
      }
    },
    {
      "cell_type": "markdown",
      "source": [
        "***"
      ],
      "metadata": {
        "id": "dRc032dDq2DW"
      }
    },
    {
      "cell_type": "markdown",
      "source": [
        "# The Forward Euler Method\n",
        "\n",
        "Developing simple ways to solve ordinary differential equations has long been an area of intense research. While deriving the analytical solution may be simple in some cases, it is often useful to solve them numerically, especially if slamming out the analytical solution will give you carpal tunnel.\n",
        "\n",
        "While there are many ways to numerically integrate these equations, in this tutorial we will examine the Forward Euler method. Say we have an ordinary differential equation such as\n",
        "\n",
        "$$\\frac{dN}{dt} = r N(t) \\tag{1}$$\n",
        "\n",
        "as would be the case for exponential growth, where $r$ is some growth-rate constant and  $t$  is time. Rather than solving this analytically (although it is trivial), we can solve it numerically by starting at some given value of $N$, evaluating Equation (1) for a given time step $\\Delta t$, and updating the new value of $N$ at this new time $t+ \\Delta t$. We can phrase this mathematically as\n",
        "\n",
        "$$N(t+ \\Delta t) = N(t) + rN(t) \\Delta t .\\tag{2}$$\n",
        "\n",
        "Say our initial value ($N$ at $t=0$) is  $N=10$  and $r=1$. We can take a time step $\\Delta t=0.1$ and find that the change in value of $N$ is\n",
        "\n",
        "$$\\Delta N = rN\\Delta t = 1. \\tag{3}$$\n",
        "\n",
        "We can then compute the new value of $N$ at time $t+\\Delta t$ as\n",
        "\n",
        "$$N(t+\\Delta t) = N(t) + \\Delta N = 10 + 1 = 11.\\tag{4}$$\n",
        "\n",
        "We can then take another step forward in time and repeat the process for as long as we would like. As the total time we'd like to integrate over becomes large, it becomes obvious why using a computer is a far more attractive approach than scribbling it by hand.\n",
        "\n",
        "A major point to be wary of is the instability of this method. The error in this scales with the square of our step size. We must choose a sufficiently small step in time such that at most only one computable event must occur. For example, if we are integrating exponential growth of bacterial cells, we don't want to take time steps larger than a cell division! This requirement is known as the Courant-Friedrichs-Lewy condition and is important for many different time-marching computer simulations.\n",
        "\n",
        "As is often the case, the best way to learn is to do. Let's give our digits some exercise and numerically integrate this exponential growth differential equation."
      ],
      "metadata": {
        "id": "MWiR27gzq2Ar"
      }
    },
    {
      "cell_type": "markdown",
      "source": [],
      "metadata": {
        "id": "bxFJWU0Mq15I"
      }
    },
    {
      "cell_type": "code",
      "execution_count": null,
      "metadata": {
        "id": "BeqGevzfq099"
      },
      "outputs": [],
      "source": [
        "import numpy as np\n",
        "import matplotlib.pyplot as plt\n",
        "\n",
        "%matplotlib inline\n",
        "import seaborn as sns\n",
        "\n",
        "sns.set()"
      ]
    },
    {
      "cell_type": "markdown",
      "source": [
        "Let's define the parameters we need for the integration."
      ],
      "metadata": {
        "id": "Xrz-S-t7dfPB"
      }
    },
    {
      "cell_type": "code",
      "source": [
        "# Initial number of cells\n",
        "N_0 = 1\n",
        "\n",
        "# Double time\n",
        "t_d = 0.5  # [h]\n",
        "\n",
        "# Growth rate\n",
        "r = np.log(2) / t_d\n",
        "\n",
        "# Total integration time\n",
        "T_total = 5\n",
        "\n",
        "# Time intervals\n",
        "delta_t = 1/1000  # [h]\n",
        "\n",
        "# Number of steps\n",
        "num_steps = int(T_total / delta_t) + 1\n",
        "\n",
        "# Initialize array for cell count\n",
        "N_t = np.zeros(num_steps)\n",
        "N_t[0] = N_0"
      ],
      "metadata": {
        "id": "uu8W6Cwl0geW"
      },
      "execution_count": null,
      "outputs": []
    },
    {
      "cell_type": "markdown",
      "source": [
        "Now that we have defined the parameters, we can run the forward integration. At each step, we compute the number of grown cells and add them to the existing cell count."
      ],
      "metadata": {
        "id": "jB8LACBcN7is"
      }
    },
    {
      "cell_type": "code",
      "source": [
        "for t in range(1, num_steps):\n",
        "  # Number of new cells\n",
        "  dN = r * delta_t * N_t[t-1]\n",
        "\n",
        "  # Update cell count\n",
        "  N_t[t] = N_t[t-1] + dN"
      ],
      "metadata": {
        "id": "2kk9BlAi1Afk"
      },
      "execution_count": null,
      "outputs": []
    },
    {
      "cell_type": "markdown",
      "source": [
        "That's it! Now we can plot the results. First, we define compute the time points at which we performed the numerical integration using the function `np.arange`, which just gives a list of integers up the the number given as argument."
      ],
      "metadata": {
        "id": "0yKsy25dOHf6"
      }
    },
    {
      "cell_type": "code",
      "source": [
        "# Define x ticks\n",
        "times = np.arange(num_steps) * delta_t\n",
        "times"
      ],
      "metadata": {
        "colab": {
          "base_uri": "https://localhost:8080/"
        },
        "id": "oOsRSkzt2TWN",
        "outputId": "b5fe1045-44a9-484d-8cc8-8538ca511ec1"
      },
      "execution_count": null,
      "outputs": [
        {
          "output_type": "execute_result",
          "data": {
            "text/plain": [
              "array([0.000e+00, 1.000e-03, 2.000e-03, ..., 4.998e+00, 4.999e+00,\n",
              "       5.000e+00])"
            ]
          },
          "metadata": {},
          "execution_count": 20
        }
      ]
    },
    {
      "cell_type": "markdown",
      "source": [
        "Using the timepoints, we plot the integrated function."
      ],
      "metadata": {
        "id": "5_-BUHxDOZHi"
      }
    },
    {
      "cell_type": "code",
      "source": [
        "plt.plot(times, N_t)\n",
        "plt.xlabel(\"time [h]\")\n",
        "plt.ylabel(\"N\");"
      ],
      "metadata": {
        "colab": {
          "base_uri": "https://localhost:8080/",
          "height": 285
        },
        "id": "vJaC5eqz2e4b",
        "outputId": "11023f84-28a4-4d95-ed0b-0cbe7d59c7bf"
      },
      "execution_count": null,
      "outputs": [
        {
          "output_type": "display_data",
          "data": {
            "text/plain": [
              "<Figure size 432x288 with 1 Axes>"
            ],
            "image/png": "[encoded data removed]"
          },
          "metadata": {}
        }
      ]
    },
    {
      "cell_type": "markdown",
      "source": [
        "That looks pretty exponential. Let's compare the numerical integration with the actual solution to see how accurate the approximation is."
      ],
      "metadata": {
        "id": "7qhjxvjzOd8c"
      }
    },
    {
      "cell_type": "code",
      "source": [
        "# Compute analytical solution\n",
        "solution = N_0 * np.exp(r * times)\n",
        "\n",
        "# Plot both analytical solution and numerical integration\n",
        "plt.plot(times, N_t, label=\"Numerical Solution\")\n",
        "plt.plot(times, solution, label=\"Analytical Solution\")\n",
        "\n",
        "plt.legend()\n",
        "plt.xlabel(\"time [h]\")\n",
        "plt.ylabel(\"N\");"
      ],
      "metadata": {
        "colab": {
          "base_uri": "https://localhost:8080/",
          "height": 285
        },
        "id": "KaFJZZzh5AFh",
        "outputId": "e7bf24ef-0763-43c7-9f51-13bf7d1bcd83"
      },
      "execution_count": null,
      "outputs": [
        {
          "output_type": "display_data",
          "data": {
            "text/plain": [
              "<Figure size 432x288 with 1 Axes>"
            ],
            "image/png": "[encoded data removed]"
          },
          "metadata": {}
        }
      ]
    },
    {
      "cell_type": "markdown",
      "source": [
        "If we have chosen a small enough time interval, then the solution will be very accurate. Try and change the time interval to see the change in accuracy when larger intervals are chosen!"
      ],
      "metadata": {
        "id": "HQm_TLbpO5Ve"
      }
    },
    {
      "cell_type": "markdown",
      "source": [
        "## Computational Environment"
      ],
      "metadata": {
        "id": "XPPQY--JQ3OJ"
      }
    },
    {
      "cell_type": "code",
      "source": [
        "!pip install watermark\n",
        "%load_ext watermark\n",
        "%watermark -v -p  numpy,matplotlib,seaborn"
      ],
      "metadata": {
        "id": "cq9ekDYc5T6r",
        "colab": {
          "base_uri": "https://localhost:8080/"
        },
        "outputId": "3dc1e3c5-7f4a-4290-e503-4ea5ce0349a4"
      },
      "execution_count": null,
      "outputs": [
        {
          "output_type": "stream",
          "name": "stdout",
          "text": [
            "Looking in indexes: https://pypi.org/simple, https://us-python.pkg.dev/colab-wheels/public/simple/\n",
            "Requirement already satisfied: watermark in /usr/local/lib/python3.7/dist-packages (2.3.1)\n",
            "Requirement already satisfied: ipython in /usr/local/lib/python3.7/dist-packages (from watermark) (7.9.0)\n",
            "Requirement already satisfied: importlib-metadata>=1.4 in /usr/local/lib/python3.7/dist-packages (from watermark) (4.12.0)\n",
            "Requirement already satisfied: zipp>=0.5 in /usr/local/lib/python3.7/dist-packages (from importlib-metadata>=1.4->watermark) (3.8.1)\n",
            "Requirement already satisfied: typing-extensions>=3.6.4 in /usr/local/lib/python3.7/dist-packages (from importlib-metadata>=1.4->watermark) (4.1.1)\n",
            "Requirement already satisfied: jedi>=0.10 in /usr/local/lib/python3.7/dist-packages (from ipython->watermark) (0.18.1)\n",
            "Requirement already satisfied: prompt-toolkit<2.1.0,>=2.0.0 in /usr/local/lib/python3.7/dist-packages (from ipython->watermark) (2.0.10)\n",
            "Requirement already satisfied: backcall in /usr/local/lib/python3.7/dist-packages (from ipython->watermark) (0.2.0)\n",
            "Requirement already satisfied: pickleshare in /usr/local/lib/python3.7/dist-packages (from ipython->watermark) (0.7.5)\n",
            "Requirement already satisfied: pygments in /usr/local/lib/python3.7/dist-packages (from ipython->watermark) (2.6.1)\n",
            "Requirement already satisfied: decorator in /usr/local/lib/python3.7/dist-packages (from ipython->watermark) (4.4.2)\n",
            "Requirement already satisfied: pexpect in /usr/local/lib/python3.7/dist-packages (from ipython->watermark) (4.8.0)\n",
            "Requirement already satisfied: traitlets>=4.2 in /usr/local/lib/python3.7/dist-packages (from ipython->watermark) (5.1.1)\n",
            "Requirement already satisfied: setuptools>=18.5 in /usr/local/lib/python3.7/dist-packages (from ipython->watermark) (57.4.0)\n",
            "Requirement already satisfied: parso<0.9.0,>=0.8.0 in /usr/local/lib/python3.7/dist-packages (from jedi>=0.10->ipython->watermark) (0.8.3)\n",
            "Requirement already satisfied: six>=1.9.0 in /usr/local/lib/python3.7/dist-packages (from prompt-toolkit<2.1.0,>=2.0.0->ipython->watermark) (1.15.0)\n",
            "Requirement already satisfied: wcwidth in /usr/local/lib/python3.7/dist-packages (from prompt-toolkit<2.1.0,>=2.0.0->ipython->watermark) (0.2.5)\n",
            "Requirement already satisfied: ptyprocess>=0.5 in /usr/local/lib/python3.7/dist-packages (from pexpect->ipython->watermark) (0.7.0)\n",
            "The watermark extension is already loaded. To reload it, use:\n",
            "  %reload_ext watermark\n",
            "Python implementation: CPython\n",
            "Python version       : 3.7.14\n",
            "IPython version      : 7.9.0\n",
            "\n",
            "numpy     : 1.21.6\n",
            "matplotlib: 3.2.2\n",
            "seaborn   : 0.11.2\n",
            "\n"
          ]
        }
      ]
    }
  ]
}